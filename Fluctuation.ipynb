{
 "cells": [
  {
   "cell_type": "code",
   "execution_count": 1,
   "metadata": {},
   "outputs": [],
   "source": [
    "from lppsim import *"
   ]
  },
  {
   "cell_type": "code",
   "execution_count": 196,
   "metadata": {},
   "outputs": [],
   "source": [
    "#global variables\n",
    "\n",
    "k = 1\n",
    "N = 1000"
   ]
  },
  {
   "cell_type": "code",
   "execution_count": 211,
   "metadata": {},
   "outputs": [],
   "source": [
    "def L1(i):\n",
    "    x = i%N\n",
    "    y = i//N\n",
    "    dist = abs(x - N/2) + abs(y-N/2)\n",
    "    return max(dist, 1)\n",
    "\n",
    "def get_times(g, N, wtfun=np.random.binomial(N-1, 0.5), scaled=False, samples=k):\n",
    "    # calculate variance\n",
    "    times = np.zeros((k, N*N))\n",
    "    for i in range(samples):\n",
    "        edgewts = vertex_weights(wtfun, N)\n",
    "        time = g.shortest_paths_dijkstra(source=tuple_to_str(int(N/2), int(N/2)), target=g.vs['name'], weights=edgewts)\n",
    "        time = list(chain.from_iterable(time))\n",
    "        times[i] = time\n",
    "    return times"
   ]
  },
  {
   "cell_type": "code",
   "execution_count": 212,
   "metadata": {},
   "outputs": [],
   "source": [
    "g = graphgen(N, directed=False)\n",
    "# fig = plot_graph(g[0], graphlayout=g[1])\n",
    "# fig.show()"
   ]
  },
  {
   "cell_type": "code",
   "execution_count": 213,
   "metadata": {},
   "outputs": [
    {
     "ename": "TypeError",
     "evalue": "'int' object is not callable",
     "output_type": "error",
     "traceback": [
      "\u001b[0;31m---------------------------------------------------------------------------\u001b[0m",
      "\u001b[0;31mTypeError\u001b[0m                                 Traceback (most recent call last)",
      "\u001b[0;32m<ipython-input-213-d4a457ecb529>\u001b[0m in \u001b[0;36m<module>\u001b[0;34m\u001b[0m\n\u001b[0;32m----> 1\u001b[0;31m \u001b[0mtimes\u001b[0m \u001b[0;34m=\u001b[0m \u001b[0mget_times\u001b[0m\u001b[0;34m(\u001b[0m\u001b[0mg\u001b[0m\u001b[0;34m[\u001b[0m\u001b[0;36m0\u001b[0m\u001b[0;34m]\u001b[0m\u001b[0;34m,\u001b[0m \u001b[0mN\u001b[0m\u001b[0;34m)\u001b[0m\u001b[0;34m\u001b[0m\u001b[0m\n\u001b[0m\u001b[1;32m      2\u001b[0m \u001b[0;34m\u001b[0m\u001b[0m\n\u001b[1;32m      3\u001b[0m \u001b[0;31m# find t_0\u001b[0m\u001b[0;34m\u001b[0m\u001b[0;34m\u001b[0m\u001b[0m\n\u001b[1;32m      4\u001b[0m \u001b[0mt_0s\u001b[0m \u001b[0;34m=\u001b[0m \u001b[0mnp\u001b[0m\u001b[0;34m.\u001b[0m\u001b[0mzeros\u001b[0m\u001b[0;34m(\u001b[0m\u001b[0mk\u001b[0m\u001b[0;34m)\u001b[0m\u001b[0;34m\u001b[0m\u001b[0m\n\u001b[1;32m      5\u001b[0m \u001b[0;32mfor\u001b[0m \u001b[0mi\u001b[0m \u001b[0;32min\u001b[0m \u001b[0mrange\u001b[0m\u001b[0;34m(\u001b[0m\u001b[0mk\u001b[0m\u001b[0;34m)\u001b[0m\u001b[0;34m:\u001b[0m\u001b[0;34m\u001b[0m\u001b[0m\n",
      "\u001b[0;32m<ipython-input-211-02c23b583caf>\u001b[0m in \u001b[0;36mget_times\u001b[0;34m(g, N, wtfun, scaled, samples)\u001b[0m\n\u001b[1;32m      9\u001b[0m     \u001b[0mtimes\u001b[0m \u001b[0;34m=\u001b[0m \u001b[0mnp\u001b[0m\u001b[0;34m.\u001b[0m\u001b[0mzeros\u001b[0m\u001b[0;34m(\u001b[0m\u001b[0;34m(\u001b[0m\u001b[0mk\u001b[0m\u001b[0;34m,\u001b[0m \u001b[0mN\u001b[0m\u001b[0;34m*\u001b[0m\u001b[0mN\u001b[0m\u001b[0;34m)\u001b[0m\u001b[0;34m)\u001b[0m\u001b[0;34m\u001b[0m\u001b[0m\n\u001b[1;32m     10\u001b[0m     \u001b[0;32mfor\u001b[0m \u001b[0mi\u001b[0m \u001b[0;32min\u001b[0m \u001b[0mrange\u001b[0m\u001b[0;34m(\u001b[0m\u001b[0msamples\u001b[0m\u001b[0;34m)\u001b[0m\u001b[0;34m:\u001b[0m\u001b[0;34m\u001b[0m\u001b[0m\n\u001b[0;32m---> 11\u001b[0;31m         \u001b[0medgewts\u001b[0m \u001b[0;34m=\u001b[0m \u001b[0mvertex_weights\u001b[0m\u001b[0;34m(\u001b[0m\u001b[0mwtfun\u001b[0m\u001b[0;34m,\u001b[0m \u001b[0mN\u001b[0m\u001b[0;34m)\u001b[0m\u001b[0;34m\u001b[0m\u001b[0m\n\u001b[0m\u001b[1;32m     12\u001b[0m         \u001b[0mtime\u001b[0m \u001b[0;34m=\u001b[0m \u001b[0mg\u001b[0m\u001b[0;34m.\u001b[0m\u001b[0mshortest_paths_dijkstra\u001b[0m\u001b[0;34m(\u001b[0m\u001b[0msource\u001b[0m\u001b[0;34m=\u001b[0m\u001b[0mtuple_to_str\u001b[0m\u001b[0;34m(\u001b[0m\u001b[0mint\u001b[0m\u001b[0;34m(\u001b[0m\u001b[0mN\u001b[0m\u001b[0;34m/\u001b[0m\u001b[0;36m2\u001b[0m\u001b[0;34m)\u001b[0m\u001b[0;34m,\u001b[0m \u001b[0mint\u001b[0m\u001b[0;34m(\u001b[0m\u001b[0mN\u001b[0m\u001b[0;34m/\u001b[0m\u001b[0;36m2\u001b[0m\u001b[0;34m)\u001b[0m\u001b[0;34m)\u001b[0m\u001b[0;34m,\u001b[0m \u001b[0mtarget\u001b[0m\u001b[0;34m=\u001b[0m\u001b[0mg\u001b[0m\u001b[0;34m.\u001b[0m\u001b[0mvs\u001b[0m\u001b[0;34m[\u001b[0m\u001b[0;34m'name'\u001b[0m\u001b[0;34m]\u001b[0m\u001b[0;34m,\u001b[0m \u001b[0mweights\u001b[0m\u001b[0;34m=\u001b[0m\u001b[0medgewts\u001b[0m\u001b[0;34m)\u001b[0m\u001b[0;34m\u001b[0m\u001b[0m\n\u001b[1;32m     13\u001b[0m         \u001b[0mtime\u001b[0m \u001b[0;34m=\u001b[0m \u001b[0mlist\u001b[0m\u001b[0;34m(\u001b[0m\u001b[0mchain\u001b[0m\u001b[0;34m.\u001b[0m\u001b[0mfrom_iterable\u001b[0m\u001b[0;34m(\u001b[0m\u001b[0mtime\u001b[0m\u001b[0;34m)\u001b[0m\u001b[0;34m)\u001b[0m\u001b[0;34m\u001b[0m\u001b[0m\n",
      "\u001b[0;32m~/Desktop/Independent Study/busemann-code/lppsim.py\u001b[0m in \u001b[0;36mvertex_weights\u001b[0;34m(wtfun, N, lpp)\u001b[0m\n\u001b[1;32m    155\u001b[0m     \u001b[0mwt\u001b[0m \u001b[0;34m=\u001b[0m \u001b[0;34m[\u001b[0m\u001b[0;34m]\u001b[0m\u001b[0;34m\u001b[0m\u001b[0m\n\u001b[1;32m    156\u001b[0m     \u001b[0;32mfor\u001b[0m \u001b[0mi\u001b[0m \u001b[0;32min\u001b[0m \u001b[0mrange\u001b[0m\u001b[0;34m(\u001b[0m\u001b[0mN\u001b[0m\u001b[0;34m-\u001b[0m\u001b[0;36m1\u001b[0m\u001b[0;34m)\u001b[0m\u001b[0;34m:\u001b[0m\u001b[0;34m\u001b[0m\u001b[0m\n\u001b[0;32m--> 157\u001b[0;31m         \u001b[0mgen\u001b[0m \u001b[0;34m=\u001b[0m \u001b[0mlist\u001b[0m\u001b[0;34m(\u001b[0m\u001b[0;34m-\u001b[0m\u001b[0mwtfun\u001b[0m\u001b[0;34m(\u001b[0m\u001b[0msize\u001b[0m\u001b[0;34m=\u001b[0m\u001b[0mN\u001b[0m\u001b[0;34m-\u001b[0m\u001b[0;36m1\u001b[0m\u001b[0;34m)\u001b[0m\u001b[0;34m)\u001b[0m\u001b[0;34m\u001b[0m\u001b[0m\n\u001b[0m\u001b[1;32m    158\u001b[0m         \u001b[0mwt\u001b[0m \u001b[0;34m=\u001b[0m \u001b[0mwt\u001b[0m \u001b[0;34m+\u001b[0m \u001b[0;34m[\u001b[0m \u001b[0mval\u001b[0m \u001b[0;32mfor\u001b[0m \u001b[0mpair\u001b[0m \u001b[0;32min\u001b[0m \u001b[0mzip\u001b[0m\u001b[0;34m(\u001b[0m\u001b[0mgen\u001b[0m\u001b[0;34m,\u001b[0m\u001b[0mgen\u001b[0m\u001b[0;34m)\u001b[0m \u001b[0;32mfor\u001b[0m \u001b[0mval\u001b[0m \u001b[0;32min\u001b[0m \u001b[0mpair\u001b[0m \u001b[0;34m]\u001b[0m\u001b[0;34m\u001b[0m\u001b[0m\n\u001b[1;32m    159\u001b[0m         \u001b[0;31m# one for the last edge\u001b[0m\u001b[0;34m\u001b[0m\u001b[0;34m\u001b[0m\u001b[0m\n",
      "\u001b[0;31mTypeError\u001b[0m: 'int' object is not callable"
     ]
    }
   ],
   "source": [
    "times = get_times(g[0], N)\n",
    "\n",
    "# find t_0\n",
    "t_0s = np.zeros(k)\n",
    "for i in range(k):\n",
    "    time = times[i]\n",
    "    greedy_min = float('inf')\n",
    "    for j in range(N*N):\n",
    "        if j//N == 1 or j//N == N-1 or j%N == 1 or j%N == N-1:  # points on the edge\n",
    "            greedy_min = min(greedy_min, time[j])\n",
    "    t_0s[i] = greedy_min\n",
    "\n",
    "print(t_0s)\n",
    "\n",
    "# calculate lambdas\n",
    "# for invalid points, lambda = 0\n",
    "lambdas = np.zeros((k, N*N))\n",
    "num_valid = 0\n",
    "for i in range(k):\n",
    "    time = times[i]\n",
    "    for j in range(N*N):\n",
    "        if time[j] <= t_0s[i]:\n",
    "            lambdas[i, j] = time[j]/L1(j)\n",
    "            if lambdas[i, j] != 0:\n",
    "                num_valid = num_valid + 1\n",
    "    print(num_valid)\n",
    "\n",
    "x = []\n",
    "y = []\n",
    "time = times[0]\n",
    "lam = lambdas[0]\n",
    "num_plotted = 0\n",
    "for i in range(N*N):\n",
    "    if lam[i] != 0 and L1(i) > 200:\n",
    "        x.append((i%N - N/2)/lam[i]/L1(i))\n",
    "        y.append((i//N - N/2)/lam[i]/L1(i))\n",
    "        num_plotted = num_plotted + 1\n",
    "plt.figure(figsize=(10, 10))\n",
    "plt.scatter(x, y, s=1)\n",
    "plt.show()\n",
    "print(num_plotted)"
   ]
  },
  {
   "cell_type": "code",
   "execution_count": null,
   "metadata": {},
   "outputs": [],
   "source": []
  },
  {
   "cell_type": "code",
   "execution_count": 131,
   "metadata": {},
   "outputs": [
    {
     "name": "stdout",
     "output_type": "stream",
     "text": [
      "[2.88255358 3.5974558  2.75931632 2.83144801 3.83939763 3.64795565\n",
      " 2.72004126 2.59709076 2.31554597 2.2222276  2.16765136 2.41873982\n",
      " 2.68718463 3.18517775 3.42450138 2.15519505 1.71837898 1.84490512\n",
      " 2.15339449 2.16762639 1.9165629  1.58094567 1.69211887 2.94585411\n",
      " 1.80678829 1.58939674 1.59185285 1.64590816 2.16762639 3.53717249\n",
      " 1.62344822 1.46977248 1.43586365 1.52494759 2.02417983 1.39888369\n",
      " 1.53779753 2.19840708 3.02605956 3.68695918 1.77712397 1.5036813\n",
      " 1.34677971 0.92539635 0.93164392 1.25996984 0.9450292  1.3707546\n",
      " 3.18660467 3.64046692 2.43341133 2.44073512 1.23670908 0.91914878\n",
      " 0.18618558 0.         0.5193038  1.37264515 2.73274243 2.78806582\n",
      " 3.31608144 2.41961849 1.55426938 0.5191872  0.37237115 0.5193038\n",
      " 0.8001198  0.82821903 2.42681816 2.05971899 3.16830762 3.2849676\n",
      " 1.66438073 0.66600324 1.69676299 0.8001198  0.82821903 1.06581503\n",
      " 1.66109683 1.79984133 2.8942639  2.80522502 2.66275821 1.81519121\n",
      " 1.77351836 1.23467122 1.06581503 1.66109683 1.79984133 1.84197242\n",
      " 2.98330278 2.87815268 2.04193045 1.85686407 2.31236549 2.41977466\n",
      " 2.46204951 2.27330237 1.84197242 1.89776533]\n",
      "[5.27316914 4.72415671 4.10808219 3.73564292 3.40029289 3.26087451\n",
      " 3.1220006  3.08224697 3.18988556 3.4496707  4.7484811  4.01865197\n",
      " 3.49745247 3.18259543 2.96886741 2.64672694 2.51219921 2.59736637\n",
      " 2.88565158 3.14142105 4.1476986  3.5968768  3.14436498 2.70654584\n",
      " 2.43246703 2.03756452 1.98861614 2.21661248 2.60142623 2.91500288\n",
      " 3.75450426 3.28786274 2.67920854 2.16397834 1.73893953 1.42573617\n",
      " 1.5280966  1.91268622 2.29152505 2.7202348  3.51251861 2.86833232\n",
      " 2.17702449 1.70822844 1.1966653  0.80133131 1.06816782 1.66316713\n",
      " 2.08965931 2.59315192 3.19888317 2.5416736  1.89160746 1.38181206\n",
      " 0.82910932 0.         0.79066165 1.56350504 2.11171555 2.64795233\n",
      " 3.05549954 2.57854307 1.95518368 1.50034931 0.97604822 0.77586283\n",
      " 1.2758906  1.77898197 2.28834283 2.76480842 2.99710104 2.59786537\n",
      " 2.14139764 1.80218463 1.42160787 1.42118775 1.80709951 2.14578147\n",
      " 2.58017954 3.02923562 3.12342834 2.77038211 2.44994501 2.07098179\n",
      " 1.98443895 1.92225576 2.20518937 2.60003428 3.10169744 3.52292154\n",
      " 3.45784402 3.02956976 2.72095623 2.47287157 2.4142592  2.42315893\n",
      " 2.72607477 3.17185775 3.62203953 4.05461621]\n"
     ]
    }
   ],
   "source": [
    "sample_mean = np.mean(times, axis=0)\n",
    "print(sample_mean)"
   ]
  },
  {
   "cell_type": "code",
   "execution_count": null,
   "metadata": {},
   "outputs": [],
   "source": []
  }
 ],
 "metadata": {
  "kernelspec": {
   "display_name": "Python 3",
   "language": "python",
   "name": "python3"
  },
  "language_info": {
   "codemirror_mode": {
    "name": "ipython",
    "version": 3
   },
   "file_extension": ".py",
   "mimetype": "text/x-python",
   "name": "python",
   "nbconvert_exporter": "python",
   "pygments_lexer": "ipython3",
   "version": "3.6.5"
  }
 },
 "nbformat": 4,
 "nbformat_minor": 2
}
