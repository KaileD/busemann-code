{
 "cells": [
  {
   "cell_type": "code",
   "execution_count": 1,
   "metadata": {},
   "outputs": [],
   "source": [
    "from lppsim import *\n"
   ]
  },
  {
   "cell_type": "code",
   "execution_count": 2,
   "metadata": {},
   "outputs": [],
   "source": [
    "#global variables\n",
    "\n",
    "k = 1\n",
    "N = 1000\n",
    "epslion = 0.1"
   ]
  },
  {
   "cell_type": "code",
   "execution_count": 3,
   "metadata": {},
   "outputs": [],
   "source": [
    "def L1(i):\n",
    "    x = i%N\n",
    "    y = i//N\n",
    "    dist = abs(x - N/2) + abs(y-N/2)\n",
    "    return max(dist, 1)\n",
    "\n",
    "def L2(i):\n",
    "    x = i%N - N/2\n",
    "    y = i//N - N/2\n",
    "    return np.sqrt(abs(x)**2 + abs(y)**2)\n",
    "# this is odd\n",
    "def random_bound(epslion):\n",
    "    output = 10\n",
    "    while np.log(output)/np.sqrt(output) > epslion:\n",
    "        output = output * 2\n",
    "    return output\n",
    "    \n",
    "def nonrandom_bound(epslion, k):\n",
    "    output = 10\n",
    "    while np.sqrt(1/((1+np.log(output)*output*k))) > epslion:\n",
    "        output = output * 2\n",
    "    return output\n",
    "\n",
    "def random_fluct(i):\n",
    "    return np.log(L1(i))/np.sqrt(L1(i))\n",
    "\n",
    "def nonrandom_fluct(i):\n",
    "    inside = 1 / ((1+np.log(L1(i)))*k*L1(i))\n",
    "    return np.sqrt(float(inside))\n",
    "\n",
    "def fluct(i):\n",
    "    return np.sqrt(L1(i))*np.log(L1(i))\n",
    "\n",
    "def edge_weights(wtfun,N,lpp=False):\n",
    "    \"\"\"\n",
    "    Simply gives iid edge weights for all edge weights in the NxN lattice.\n",
    "    N = size of N x N 2d square lattice\n",
    "    will generate weights for 2*(N-1)*N edges  =\n",
    "    2 for each vertex (i,j) such that 0<= i < N-1 and 0 <= j < N-1\n",
    "    and then 2(N-1) more edges for the two boundary = 2 (N-1)^2 + 2(N-1)\n",
    "    \"\"\"\n",
    "    wt = list(-wtfun(size=2*(N-1)*N))\n",
    "\n",
    "    if dbg>=3:\n",
    "        print(len(wt))\n",
    "\n",
    "    if not lpp:\n",
    "        # then its fpp; make the weights positive.\n",
    "        wt = [ x * (-1) for x in wt ]\n",
    "        # print(\"weights for FPP generated\")\n",
    "\n",
    "    return wt\n",
    "\n",
    "def get_times(g, N, wtfun=np.random.exponential, scaled=False, samples=k):\n",
    "    # calculate variance\n",
    "    times = np.zeros((k, N*N))\n",
    "    for i in range(samples):\n",
    "        edgewts = edge_weights(wtfun, N)\n",
    "        time = g.shortest_paths_dijkstra(source=tuple_to_str(int(N/2), int(N/2)), target=g.vs['name'], weights=edgewts)\n",
    "        time = list(chain.from_iterable(time))\n",
    "        times[i] = time\n",
    "    return times"
   ]
  },
  {
   "cell_type": "code",
   "execution_count": 4,
   "metadata": {},
   "outputs": [
    {
     "name": "stdout",
     "output_type": "stream",
     "text": [
      "10240\n",
      "40\n"
     ]
    }
   ],
   "source": [
    "bound1 = random_bound(epslion)\n",
    "print(bound1)\n",
    "bound2 = nonrandom_bound(epslion, k)\n",
    "print(bound2)\n",
    "bound = max(bound1, bound2)"
   ]
  },
  {
   "cell_type": "code",
   "execution_count": 5,
   "metadata": {},
   "outputs": [],
   "source": [
    "g = graphgen(N, directed=False)\n",
    "# fig = plot_graph(g[0], graphlayout=g[1])\n",
    "# fig.show()"
   ]
  },
  {
   "cell_type": "code",
   "execution_count": 15,
   "metadata": {},
   "outputs": [
    {
     "name": "stdout",
     "output_type": "stream",
     "text": [
      "[201.46179583] [341.28846443]\n",
      "717139\n"
     ]
    },
    {
     "data": {
      "image/png": "[encoded data removed]",
      "text/plain": [
       "<Figure size 720x720 with 1 Axes>"
      ]
     },
     "metadata": {
      "needs_background": "light"
     },
     "output_type": "display_data"
    }
   ],
   "source": [
    "times = get_times(g[0], N)\n",
    "\n",
    "# find t_0\n",
    "t_0s = np.zeros(k)\n",
    "bounds = np.zeros(k)\n",
    "flucts = [fluct(i) for i in range(N*N)]    \n",
    "\n",
    "for i in range(k):\n",
    "    time = times[i]\n",
    "    greedy_min = float('inf')\n",
    "    greedy2 = float('inf')\n",
    "    for j in range(N*N):\n",
    "        if j//N == 1 or j//N == N-1 or j%N == 1 or j%N == N-1:  # points on the edge\n",
    "            greedy_min = min(greedy_min, time[j])\n",
    "            greedy2 = min(greedy2, time[j]+flucts[j])\n",
    "    t_0s[i] = greedy_min\n",
    "    bounds[i] = greedy2\n",
    "\n",
    "print(t_0s, bounds)\n",
    "\n",
    "# calculate lambdas\n",
    "# for invalid points, lambda = 0\n",
    "lambdas = np.zeros((k, N*N))\n",
    "x = []\n",
    "y = []\n",
    "bound_x = []\n",
    "bound_y = []\n",
    "for i in range(k):\n",
    "    time = times[i]\n",
    "    bound = bounds[i]\n",
    "    for j in range(N*N):\n",
    "        if time[j] <= t_0s[i]:\n",
    "            x.append(j%N - N/2)\n",
    "            y.append(j//N - N/2)\n",
    "            #lambdas[i, j] = time[j]/L1(j)\n",
    "        if time[j] <= bounds[i]:\n",
    "            bound_x.append(j%N - N/2)\n",
    "            bound_y.append(j//N - N/2)\n",
    "    print(len(x))\n",
    "plt.figure(figsize=(10, 10))\n",
    "plt.scatter(bound_x, bound_y, s=1, color='red', alpha=0.5)\n",
    "plt.scatter(x, y, s=1, color=\"blue\")\n",
    "\n",
    "plt.show()"
   ]
  },
  {
   "cell_type": "code",
   "execution_count": null,
   "metadata": {},
   "outputs": [],
   "source": [
    "\"\"\"\n",
    "time = times[0]\n",
    "lam = lambdas[0]\n",
    "num_plotted = 0\n",
    "for i in range(N*N):\n",
    "    if lam[i] != 0 and L2(i) > 460:\n",
    "        temp_x = (i%N - N/2)/lam[i]/L1(i)\n",
    "        temp_y = (i//N - N/2)/lam[i]/L1(i)\n",
    "        # fluct = random_fluct(i) + nonrandom_fluct(i)\n",
    "        # fluct = nonrandom_fluct(i)\n",
    "        num_plotted = num_plotted + 1\n",
    "        x.append(temp_x)\n",
    "        y.append(temp_y)\n",
    "        #upper_x.append(temp_x * lam[i] / (lam[i]-fluct))\n",
    "        #upper_y.append(temp_y * lam[i] / (lam[i]-fluct))\n",
    "\n",
    "plt.figure(figsize=(10, 10))\n",
    "plt.scatter(x, y, s=1, color=\"blue\", alpha=0.5)\n",
    "#plt.scatter(upper_x, upper_y, s=1, color='red', alpha=0.5)\n",
    "plt.show()\n",
    "print(num_plotted)\n",
    "\"\"\""
   ]
  },
  {
   "cell_type": "code",
   "execution_count": 8,
   "metadata": {},
   "outputs": [
    {
     "name": "stdout",
     "output_type": "stream",
     "text": [
      "[291.82993628 291.82609916 291.78775367 ... 298.2172053  298.9510127\n",
      " 299.34489067]\n"
     ]
    }
   ],
   "source": [
    "sample_mean = np.mean(times, axis=0)\n",
    "print(sample_mean)"
   ]
  },
  {
   "cell_type": "code",
   "execution_count": null,
   "metadata": {},
   "outputs": [],
   "source": []
  }
 ],
 "metadata": {
  "kernelspec": {
   "display_name": "Python 3",
   "language": "python",
   "name": "python3"
  },
  "language_info": {
   "codemirror_mode": {
    "name": "ipython",
    "version": 3
   },
   "file_extension": ".py",
   "mimetype": "text/x-python",
   "name": "python",
   "nbconvert_exporter": "python",
   "pygments_lexer": "ipython3",
   "version": "3.6.5"
  }
 },
 "nbformat": 4,
 "nbformat_minor": 2
}
